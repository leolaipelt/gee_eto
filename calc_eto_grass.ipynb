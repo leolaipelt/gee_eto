{
 "cells": [
  {
   "cell_type": "markdown",
   "metadata": {},
   "source": [
    "## Obtendo Eto para grama utilizando Google Earth Engine.\n",
    "\n",
    "### Código preparado para funcionar com dados de reanálises do era5 e gldas.\n",
    "#### Dados de entrada: \n",
    "##### - min_data, max_data, tabela_estacoes;\n",
    "#### Dados de saída: \n",
    "##### - tabela (exportada para o Drive)."
   ]
  },
  {
   "cell_type": "code",
   "execution_count": 1,
   "metadata": {},
   "outputs": [],
   "source": [
    "from meteorology import meteorology, eto_grass\n",
    "from datetime import datetime, date, timedelta\n",
    "import pandas as pd"
   ]
  },
  {
   "cell_type": "code",
   "execution_count": 2,
   "metadata": {},
   "outputs": [],
   "source": [
    "# Importando a biblioteca do Google Earth Engine\n",
    "import ee"
   ]
  },
  {
   "cell_type": "code",
   "execution_count": 3,
   "metadata": {},
   "outputs": [],
   "source": [
    "try:\n",
    "    ee.Initialize()\n",
    "except ee.EEException:\n",
    "    ee.Authenticate()\n",
    "    ee.Initialize()"
   ]
  },
  {
   "cell_type": "code",
   "execution_count": 4,
   "metadata": {},
   "outputs": [],
   "source": [
    "'''\n",
    "Dados de entrada\n",
    "    min_data: \n",
    "        Data inicial.\n",
    "    max_data:\n",
    "        Data final.\n",
    "    table_towers:\n",
    "        Dados de longitude, latitude e nome da estação automática.\n",
    "'''\n",
    "# Selecionar o intervalo das datas FMT: YYYY-MM-DD\n",
    "min_data = ee.Date('2004-01-01') \n",
    "max_data = ee.Date('2019-12-31')\n",
    "\n",
    "# tabela com informações das torres automaticas\n",
    "table_towers = pd.read_csv(r'D:\\mestrado\\eto_ana\\estacoes_automaticas_eto.csv', delimiter=';',\n",
    "                           sep='delimiter', engine='python')\n",
    "\n",
    "# Renomeando as colunas da tabela\n",
    "table_towers['latitude'] = table_towers['ein_latitude']\n",
    "table_towers['longitude'] = table_towers['ein_longitude']\n",
    "table_towers['station']=table_towers['ï»¿ein_estacao_cd']"
   ]
  },
  {
   "cell_type": "code",
   "execution_count": 5,
   "metadata": {},
   "outputs": [],
   "source": [
    "# Modelo Digital de Elevacao\n",
    "elev_source = 'USGS/SRTMGL1_003'\n",
    "\n",
    "# Criando lista de datas\n",
    "n_months = max_data.difference(min_data,'day').round();\n",
    "dates = ee.List.sequence(0,n_months,1);\n",
    "def make_datelist(n):\n",
    "  return min_data.advance(n,'day');\n",
    "\n",
    "dates = dates.map(make_datelist)\n",
    "\n",
    "# Funcao para calcular a ETo\n",
    "def calc_eto(time_start):\n",
    "    time_start = ee.Date(time_start)\n",
    "    tmin, tmax, tair, rso24h, ws = meteorology(time_start, \"NASA/GLDAS/V021/NOAH/G025/T3H\")\n",
    "    etodata = eto_grass(time_start, tmin, tmax, tair, ws, rso24h, elev_source)\n",
    "    \n",
    "    tmin, tmax, tair, rso24h, ws = meteorology(time_start, \"ECMWF/ERA5_LAND/HOURLY\")\n",
    "    eto_data_era5 = eto_grass(time_start, tmin, tmax, tair, ws, rso24h, elev_source)\n",
    "    eto_data_era5 = eto_data_era5.select('eto24h').rename('eto24h_era5')\n",
    "    \n",
    "    etodata = etodata.addBands(eto_data_era5).set('system:time_start',time_start.millis())\n",
    "    return etodata\n",
    "\n",
    "eto_col = ee.ImageCollection.fromImages(\n",
    "    dates.map(calc_eto)\n",
    ")"
   ]
  },
  {
   "cell_type": "code",
   "execution_count": 6,
   "metadata": {},
   "outputs": [
    {
     "name": "stdout",
     "output_type": "stream",
     "text": [
      "longitude -47.925756\n",
      "latitude -15.789342999999999\n",
      "A001\n",
      "longitude -49.220222\n",
      "latitude -16.642841\n",
      "A002\n"
     ]
    }
   ],
   "source": [
    "# Funcao que exporta uma tabela com os resultados de ETO para cada estacao\n",
    "#da tabela inseridada\n",
    "for coords in zip(table_towers['longitude'],\n",
    "                            table_towers['latitude'],\n",
    "                            table_towers['station']):\n",
    "    \n",
    "    point = ee.Geometry.Point([coords[0],coords[1]])\n",
    "    \n",
    "    # apresenta no console longitude,latitude e estacao rodada.\n",
    "    print('longitude',coords[0])\n",
    "    print('latitude',coords[1])\n",
    "    print(coords[2])\n",
    "    def extract_ts(image):\n",
    "        \n",
    "        red = image.reduceRegion(\n",
    "        reducer=ee.Reducer.mean(),\n",
    "        scale = 25000,\n",
    "        maxPixels = 10e12,\n",
    "        geometry = point\n",
    "        )\n",
    "    \n",
    "        date= ee.Date(image.get('system:time_start')).format('YYYY-MM-dd')\n",
    "        return ee.Feature(None, {'eto_gldas': ee.List([red.get('eto24h'),-9999])\\\n",
    "                                         .reduce(ee.Reducer.firstNonNull()),\n",
    "                                 'eto_era5': ee.List([red.get('eto24h_era5'),-9999])\\\n",
    "                                         .reduce(ee.Reducer.firstNonNull()),\n",
    "                                           'date': date})\n",
    "    \n",
    "    table_eto = eto_col.map(extract_ts)\n",
    "    \n",
    "    task = ee.batch.Export.table.toDrive(**{\n",
    "      'collection': table_eto,\n",
    "      'folder': 'eto_gldas',\n",
    "      'description':coords[2].lower()+'_eto_gldas_era5',\n",
    "      'fileFormat': 'CSV',\n",
    "      'selectors': ['date','eto_gldas','eto_era5']\n",
    "    })\n",
    "    task.start()\n",
    "    "
   ]
  },
  {
   "cell_type": "code",
   "execution_count": null,
   "metadata": {},
   "outputs": [],
   "source": []
  }
 ],
 "metadata": {
  "kernelspec": {
   "display_name": "Python 3",
   "language": "python",
   "name": "python3"
  },
  "language_info": {
   "codemirror_mode": {
    "name": "ipython",
    "version": 3
   },
   "file_extension": ".py",
   "mimetype": "text/x-python",
   "name": "python",
   "nbconvert_exporter": "python",
   "pygments_lexer": "ipython3",
   "version": "3.7.6"
  }
 },
 "nbformat": 4,
 "nbformat_minor": 4
}
